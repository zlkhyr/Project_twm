{
 "cells": [
  {
   "cell_type": "markdown",
   "id": "ab55370b-075a-409b-b44e-1c39389e3669",
   "metadata": {},
   "source": [
    "# Import"
   ]
  },
  {
   "cell_type": "code",
   "execution_count": 1,
   "id": "58559d0b-5d4a-466b-a198-71bbe8450fbe",
   "metadata": {},
   "outputs": [],
   "source": [
    "import requests\n",
    "import pandas as pd\n",
    "from bs4 import BeautifulSoup as sp\n",
    "import random"
   ]
  },
  {
   "cell_type": "markdown",
   "id": "519c578f-2583-4c04-8374-3a364bf56163",
   "metadata": {},
   "source": [
    "# Scraping\n",
    "> ### Param \n",
    "> - tgl_akhir : scraping nya sampai tanggal berapa pada bulan dan tahun tertentu \n",
    "> - bulan : berita pada bulan berapa yang akan di scraping\n",
    "> - tahun : berita pada tahun berapa yang akan di scraping\n"
   ]
  },
  {
   "cell_type": "code",
   "execution_count": 2,
   "id": "89a0b3ba-c5e8-445a-9b89-ab225af87ba4",
   "metadata": {},
   "outputs": [],
   "source": [
    "def scraping(tgl_akhir, bulan, tahun):\n",
    "    judul = []\n",
    "    # iterasi dari tanggal 1 pada bulan yang ditentukan\n",
    "    tgl = 16 \n",
    "    # iterasi sampai dengan tanggal terahir yang ditentukan\n",
    "    while tgl <= tgl_akhir: \n",
    "        # pada tanggal tertentu iterasi dumulai dari halaman 1\n",
    "        hal = 1\n",
    "        # selama list_berita punya lenght ambil list_berita dari page tertentu\n",
    "        while True:\n",
    "            # membuat http request\n",
    "            response = requests.get(f'https://finance.detik.com/indeks/{hal}?date={bulan}/{tgl}/{tahun}').text\n",
    "            # mem-parsing respon HTML menggunakan parser lxml.\n",
    "            parser = sp(response,'lxml')\n",
    "            # ambil list berita\n",
    "            list_berita = parser.select('div.grid-row.list-content')[0].find_all('article')            \n",
    "            # cek apakah ada list berita pada page tertentu\n",
    "            if not list_berita:\n",
    "                break\n",
    "            # berita yang ada dalam list berita ...\n",
    "            for berita in list_berita:\n",
    "                # ambil judulnya\n",
    "                judul.append(berita.find('h3').text)\n",
    "            # print progres tiap halaman\n",
    "            print(f\"halaman {hal} done\")\n",
    "            hal += 1\n",
    "        # print progres tiap tanggal\n",
    "        print(f\"==tanggal {tgl} done==\")\n",
    "        tgl += 1\n",
    "    df = pd.DataFrame({\n",
    "        'judul': judul\n",
    "    })\n",
    "\n",
    "    return df"
   ]
  },
  {
   "cell_type": "markdown",
   "id": "f28b324c-7597-48f1-bfde-805ff602de52",
   "metadata": {},
   "source": [
    "# Panggil function"
   ]
  },
  {
   "cell_type": "code",
   "execution_count": 3,
   "id": "1ed6cf35-4baf-49e1-8a66-fd4433e38896",
   "metadata": {},
   "outputs": [
    {
     "name": "stdout",
     "output_type": "stream",
     "text": [
      "halaman 1 done\n",
      "halaman 2 done\n",
      "halaman 3 done\n",
      "==tanggal 1 done==\n",
      "halaman 1 done\n",
      "halaman 2 done\n",
      "halaman 3 done\n"
     ]
    }
   ],
   "source": [
    "data = scraping(16, 5, 2024)"
   ]
  },
  {
   "cell_type": "markdown",
   "id": "4ebc3340-a6af-4478-9462-62d6dc099043",
   "metadata": {},
   "source": [
    "# Hasil"
   ]
  },
  {
   "cell_type": "code",
   "execution_count": null,
   "id": "01e7c4a3-f30d-473e-a7ed-057d36f2ac32",
   "metadata": {},
   "outputs": [
    {
     "data": {
      "text/html": [
       "<div>\n",
       "<style scoped>\n",
       "    .dataframe tbody tr th:only-of-type {\n",
       "        vertical-align: middle;\n",
       "    }\n",
       "\n",
       "    .dataframe tbody tr th {\n",
       "        vertical-align: top;\n",
       "    }\n",
       "\n",
       "    .dataframe thead th {\n",
       "        text-align: right;\n",
       "    }\n",
       "</style>\n",
       "<table border=\"1\" class=\"dataframe\">\n",
       "  <thead>\n",
       "    <tr style=\"text-align: right;\">\n",
       "      <th></th>\n",
       "      <th>judul</th>\n",
       "    </tr>\n",
       "  </thead>\n",
       "  <tbody>\n",
       "    <tr>\n",
       "      <th>0</th>\n",
       "      <td>\\nTerminal Mandala di Rangkasbitung Lebak Rusa...</td>\n",
       "    </tr>\n",
       "    <tr>\n",
       "      <th>1</th>\n",
       "      <td>\\nBegini Nasib Duit Nasabah Bank Jepara Artha ...</td>\n",
       "    </tr>\n",
       "    <tr>\n",
       "      <th>2</th>\n",
       "      <td>\\nPenampakan Terkini Proyek Stasiun Ultimate R...</td>\n",
       "    </tr>\n",
       "    <tr>\n",
       "      <th>3</th>\n",
       "      <td>\\nPemerintah Diminta Bikin HET Bawang Putih Ag...</td>\n",
       "    </tr>\n",
       "    <tr>\n",
       "      <th>4</th>\n",
       "      <td>\\nTerungkap Biang Kerok Harga Bawang Putih Mer...</td>\n",
       "    </tr>\n",
       "  </tbody>\n",
       "</table>\n",
       "</div>"
      ],
      "text/plain": [
       "                                               judul\n",
       "0  \\nTerminal Mandala di Rangkasbitung Lebak Rusa...\n",
       "1  \\nBegini Nasib Duit Nasabah Bank Jepara Artha ...\n",
       "2  \\nPenampakan Terkini Proyek Stasiun Ultimate R...\n",
       "3  \\nPemerintah Diminta Bikin HET Bawang Putih Ag...\n",
       "4  \\nTerungkap Biang Kerok Harga Bawang Putih Mer..."
      ]
     },
     "execution_count": 4,
     "metadata": {},
     "output_type": "execute_result"
    }
   ],
   "source": [
    "data.head()"
   ]
  },
  {
   "cell_type": "code",
   "execution_count": null,
   "id": "cc816d70-6af7-4d7c-8e6e-f25f2d9e0b68",
   "metadata": {},
   "outputs": [
    {
     "data": {
      "text/plain": [
       "'\\nBegini Nasib Duit Nasabah Bank Jepara Artha Usai Izin Dicabut OJK\\n'"
      ]
     },
     "execution_count": 19,
     "metadata": {},
     "output_type": "execute_result"
    }
   ],
   "source": [
    "data.judul[1]"
   ]
  },
  {
   "cell_type": "markdown",
   "id": "8987fc20-0030-4122-9415-2f8af003de34",
   "metadata": {},
   "source": [
    "# Simpang ke format .csv"
   ]
  },
  {
   "cell_type": "code",
   "execution_count": null,
   "id": "63e4c28d-7c27-4073-88ff-fb607c01834c",
   "metadata": {},
   "outputs": [],
   "source": [
    "data.to_csv('data.csv', index=False, encoding='utf-8')"
   ]
  }
 ],
 "metadata": {
  "kernelspec": {
   "display_name": "Python 3 (ipykernel)",
   "language": "python",
   "name": "python3"
  },
  "language_info": {
   "codemirror_mode": {
    "name": "ipython",
    "version": 3
   },
   "file_extension": ".py",
   "mimetype": "text/x-python",
   "name": "python",
   "nbconvert_exporter": "python",
   "pygments_lexer": "ipython3",
   "version": "3.10.13"
  }
 },
 "nbformat": 4,
 "nbformat_minor": 5
}
