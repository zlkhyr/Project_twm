{
 "cells": [
  {
   "cell_type": "code",
   "execution_count": 11,
   "id": "1f3baf49-0230-4c87-ad18-c7e48d22fcc6",
   "metadata": {},
   "outputs": [],
   "source": [
    "import google.generativeai as gemini\n",
    "import pandas as pd\n",
    "import os"
   ]
  },
  {
   "cell_type": "code",
   "execution_count": 6,
   "id": "a64f40b4-5e11-4032-9389-c4003132ee3b",
   "metadata": {},
   "outputs": [],
   "source": [
    "gemini.configure(api_key=os.getenv('GEMINI_API_KEY'))\n",
    "model = gemini.GenerativeModel('gemini-pro')"
   ]
  },
  {
   "cell_type": "code",
   "execution_count": 7,
   "id": "0bb44d9b-5b16-492f-96c1-4c7839ffabed",
   "metadata": {},
   "outputs": [],
   "source": [
    "response = model.generate_content(f\"Please label the sentiment of the following finance news title with one word: positive, negative, or neutral. \")"
   ]
  },
  {
   "cell_type": "code",
   "execution_count": 9,
   "id": "4c3bb990-c791-47d1-ae6a-ec527873618b",
   "metadata": {},
   "outputs": [
    {
     "data": {
      "text/plain": [
       "'Hi there! How can I help you today?'"
      ]
     },
     "execution_count": 9,
     "metadata": {},
     "output_type": "execute_result"
    }
   ],
   "source": [
    "response.text"
   ]
  },
  {
   "cell_type": "code",
   "execution_count": null,
   "id": "6f8c34d0-dd10-477c-a5dd-11f2c3294b14",
   "metadata": {},
   "outputs": [],
   "source": []
  }
 ],
 "metadata": {
  "kernelspec": {
   "display_name": "Python 3 (ipykernel)",
   "language": "python",
   "name": "python3"
  },
  "language_info": {
   "codemirror_mode": {
    "name": "ipython",
    "version": 3
   },
   "file_extension": ".py",
   "mimetype": "text/x-python",
   "name": "python",
   "nbconvert_exporter": "python",
   "pygments_lexer": "ipython3",
   "version": "3.12.3"
  }
 },
 "nbformat": 4,
 "nbformat_minor": 5
}
