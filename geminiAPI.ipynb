{
 "cells": [
  {
   "cell_type": "code",
   "execution_count": 215,
   "id": "1f3baf49-0230-4c87-ad18-c7e48d22fcc6",
   "metadata": {},
   "outputs": [],
   "source": [
    "import google.generativeai as gemini\n",
    "from google.api_core.exceptions import ResourceExhausted\n",
    "import pandas as pd\n",
    "import time\n",
    "import os"
   ]
  },
  {
   "cell_type": "code",
   "execution_count": 216,
   "id": "04280d01-6278-401b-935d-612fab8493cd",
   "metadata": {},
   "outputs": [],
   "source": [
    "gemini.configure(api_key=os.getenv('GEMINI_API_KEY'))"
   ]
  },
  {
   "cell_type": "code",
   "execution_count": 217,
   "id": "023db2a5-5d35-474c-ae49-246c2634f7e0",
   "metadata": {},
   "outputs": [
    {
     "name": "stdout",
     "output_type": "stream",
     "text": [
      "models/gemini-1.0-pro\n",
      "models/gemini-1.0-pro-001\n",
      "models/gemini-1.0-pro-latest\n",
      "models/gemini-1.0-pro-vision-latest\n",
      "models/gemini-1.5-flash-001\n",
      "models/gemini-1.5-flash-latest\n",
      "models/gemini-1.5-pro-001\n",
      "models/gemini-1.5-pro-latest\n",
      "models/gemini-pro\n",
      "models/gemini-pro-vision\n"
     ]
    }
   ],
   "source": [
    "for m in gemini.list_models():\n",
    "    if \"generateContent\" in m.supported_generation_methods:\n",
    "        print(m.name)"
   ]
  },
  {
   "cell_type": "code",
   "execution_count": 218,
   "id": "a64f40b4-5e11-4032-9389-c4003132ee3b",
   "metadata": {},
   "outputs": [],
   "source": [
    "model = gemini.GenerativeModel('gemini-1.0-pro')\n",
    "data = pd.read_csv('data_4_2024.csv')"
   ]
  },
  {
   "cell_type": "code",
   "execution_count": 219,
   "id": "f96f4f77-dc36-47a6-9dcb-410d4c4ed182",
   "metadata": {},
   "outputs": [],
   "source": [
    "def labeling(judul):\n",
    "    while True:\n",
    "        try:\n",
    "            sentiment = model.generate_content(f\"Please label the sentiment of the following finance news title with one word: positive, negative, or neutral. {data}\")\n",
    "            print(judul + sentiment.text, end='\\r')\n",
    "            return sentiment.text\n",
    "        except ResourceExhausted as e:\n",
    "            if e.code == 429:\n",
    "                # print('quota habis!. menunggu 60 detik sebelum mencoba lagi ...')\n",
    "                for detik in range(60, 0, -1):\n",
    "                    print(f\"Kuota habis!. Mencoba lagi dalam {detik} detik...\", end=\"\\r\")\n",
    "                    time.sleep(1)\n",
    "                continue"
   ]
  },
  {
   "cell_type": "code",
   "execution_count": null,
   "id": "6f8c34d0-dd10-477c-a5dd-11f2c3294b14",
   "metadata": {},
   "outputs": [],
   "source": [
    "data['label'] = data.judul.apply(labeling)"
   ]
  },
  {
   "cell_type": "code",
   "execution_count": null,
   "id": "9f5d77e1-f80f-4927-abb9-3b3c0c6572b9",
   "metadata": {},
   "outputs": [],
   "source": []
  }
 ],
 "metadata": {
  "kernelspec": {
   "display_name": "Python 3 (ipykernel)",
   "language": "python",
   "name": "python3"
  },
  "language_info": {
   "codemirror_mode": {
    "name": "ipython",
    "version": 3
   },
   "file_extension": ".py",
   "mimetype": "text/x-python",
   "name": "python",
   "nbconvert_exporter": "python",
   "pygments_lexer": "ipython3",
   "version": "3.12.3"
  }
 },
 "nbformat": 4,
 "nbformat_minor": 5
}
