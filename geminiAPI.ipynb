{
 "cells": [
  {
   "cell_type": "code",
   "execution_count": 113,
   "id": "1f3baf49-0230-4c87-ad18-c7e48d22fcc6",
   "metadata": {},
   "outputs": [],
   "source": [
    "import google.generativeai as gemini\n",
    "from google.api_core.exceptions import ResourceExhausted\n",
    "import pandas as pd\n",
    "import time\n",
    "import os"
   ]
  },
  {
   "cell_type": "code",
   "execution_count": 114,
   "id": "04280d01-6278-401b-935d-612fab8493cd",
   "metadata": {},
   "outputs": [],
   "source": [
    "gemini.configure(api_key=os.getenv('GEMINI_API_KEY'))"
   ]
  },
  {
   "cell_type": "code",
   "execution_count": 115,
   "id": "023db2a5-5d35-474c-ae49-246c2634f7e0",
   "metadata": {},
   "outputs": [
    {
     "name": "stdout",
     "output_type": "stream",
     "text": [
      "models/gemini-1.0-pro\n",
      "models/gemini-1.0-pro-001\n",
      "models/gemini-1.0-pro-latest\n",
      "models/gemini-1.0-pro-vision-latest\n",
      "models/gemini-1.5-flash\n",
      "models/gemini-1.5-flash-001\n",
      "models/gemini-1.5-flash-latest\n",
      "models/gemini-1.5-pro\n",
      "models/gemini-1.5-pro-001\n",
      "models/gemini-1.5-pro-latest\n",
      "models/gemini-pro\n",
      "models/gemini-pro-vision\n"
     ]
    }
   ],
   "source": [
    "for m in gemini.list_models():\n",
    "    if \"generateContent\" in m.supported_generation_methods:\n",
    "        print(m.name)"
   ]
  },
  {
   "cell_type": "code",
   "execution_count": 116,
   "id": "a64f40b4-5e11-4032-9389-c4003132ee3b",
   "metadata": {},
   "outputs": [],
   "source": [
    "model = gemini.GenerativeModel('gemini-pro')\n",
    "data = pd.read_csv('data/data_1_2024.csv')"
   ]
  },
  {
   "cell_type": "code",
   "execution_count": 117,
   "id": "f96f4f77-dc36-47a6-9dcb-410d4c4ed182",
   "metadata": {},
   "outputs": [],
   "source": [
    "def labeling(judul):\n",
    "    while True:\n",
    "        try:\n",
    "            sentiment = model.generate_content(f\"Tolong beri label sentimen pada judul berita keuangan berikut dengan hanya satu kata saja: positif, negatif, atau netral. {judul}\")\n",
    "            print(judul + sentiment.text, end='\\r')\n",
    "            return sentiment.text\n",
    "        except ResourceExhausted as e:\n",
    "            if e.code == 429:\n",
    "                # print('quota habis!. menunggu 60 detik sebelum mencoba lagi ...')\n",
    "                for detik in range(60, 0, -1):\n",
    "                    print(f\"Kuota habis!. Mencoba lagi dalam {detik} detik...\", end=\"\\r\")\n",
    "                    time.sleep(1)\n",
    "                continue"
   ]
  },
  {
   "cell_type": "code",
   "execution_count": 118,
   "id": "6f8c34d0-dd10-477c-a5dd-11f2c3294b14",
   "metadata": {},
   "outputs": [],
   "source": [
    "# data['label'] = data.judul.apply(labeling)"
   ]
  },
  {
   "cell_type": "code",
   "execution_count": 119,
   "id": "2fced819-b115-4043-ab82-818e34e67772",
   "metadata": {},
   "outputs": [
    {
     "data": {
      "text/plain": [
       "2771"
      ]
     },
     "execution_count": 119,
     "metadata": {},
     "output_type": "execute_result"
    }
   ],
   "source": [
    "len(data)"
   ]
  },
  {
   "cell_type": "code",
   "execution_count": 120,
   "id": "a3aacb6a-6a10-47a7-85e2-5dd2c60fd496",
   "metadata": {},
   "outputs": [
    {
     "data": {
      "text/plain": [
       "1385.5"
      ]
     },
     "execution_count": 120,
     "metadata": {},
     "output_type": "execute_result"
    }
   ],
   "source": [
    "2771/2"
   ]
  },
  {
   "cell_type": "code",
   "execution_count": 121,
   "id": "ca4e63ec-6bb4-4d6d-9b15-bc1d590be26c",
   "metadata": {},
   "outputs": [],
   "source": [
    "sampel1 = data[:1385]\n",
    "sampel2 = data[1385:]"
   ]
  },
  {
   "cell_type": "code",
   "execution_count": 122,
   "id": "31f7d2ea-f896-4b6e-920c-34a21251e3a0",
   "metadata": {},
   "outputs": [
    {
     "name": "stdout",
     "output_type": "stream",
     "text": [
      "\n",
      "McDonald's Gugat Gerakan Boikot Produk Israel di Malaysia Rp 20,17 Miliar\n",
      "Negatif\n",
      "Musim Liburan Nataru 600 Ribu Orang Menyeberang dari Pulau Jawa ke Sumatera\n",
      "Netral\n",
      "Rokok Elektrik Resmi Kena Pajak, Harga Vape cs Ikutan Naik?\n",
      "Netral\n",
      "Ingat! Transmart Diskon 20% Setiap Hari\n",
      "Positif\n",
      "Cadangan Minyak RI Mau Habis, SKK Migas Buka Suara\n",
      "Negatif\n",
      "Jasa Sewa Kano Laris Manis Diserbu Pelancong, Sehari Raup Jutaan Rupiah\n",
      "Positif\n",
      "Pulang Liburan Mampir ke Transmart! Beli Anggur-Daging Shabu Diskon 20%\n",
      "Netral\n",
      "Tarif Cukai Naik Lagi, Bagaimana Harga Rokok di Warung Madura-Minimarket?\n",
      "Netral\n",
      "Terowongan Tol Cisumdawu Retak Akibat Gempa, Masih Aman Dilewati?\n",
      "Negatif\n",
      "Produsen Cokelat Hershey Dituntut Rp 76 M Cuma Gegara Ini\n",
      "Negatif\n",
      "Jangan Lupa ke Transmart, Beli Bahan Barbeque Diskon 20%!\n",
      "Positif\n",
      "Dua Ladang Gas Raksasa Ditemukan, SKK Migas Target Produksi Sebelum 2030\n",
      "Positif\n",
      "Beli Semangka di Transmart Aja Diskon 20% Lho!\n",
      "Netral\n",
      "Mudahnya Bayar Biaya Pendidikan Universitas Pakai BRImo, Ini Caranya\n",
      "Positif\n",
      "Kabar Duka, Direktur Garuda Indonesia Salman El Farisiy Meninggal Dunia\n",
      "Kuota habis!. Mencoba lagi dalam 1 detik....\n",
      "2024 Bisa Financial Freedom? Begini Loh Caranya\n",
      "Positif\n",
      "Transmart Lagi Diskon Setiap Hari, Spesial Ikan Shisamo Diskon 20%!\n",
      "Positif\n",
      "Emiten Jusuf Hamka Pinjam Rp 600 M ke Bank Capital buat Bangun Tol Layang\n",
      "Positif\n",
      "Aneka Bakso Seafood Diskon 20% Tiap Hari di Transmart\n",
      "Positif\n",
      "Hari Ini Cukai Rokok Naik 10%, Rokok Makin Mahal\n",
      "Negatif\n",
      "Buruan ke Transmart, Ada Anggur Muscat Harga Miring\n",
      "Positif\n",
      "Ekonomi Lagi Menggeliat, Penyaluran Solar Subsidi 2023 Capai 102,69%\n",
      "Positif\n",
      "Segera ke Transmart dan Nikmati Diskon 20%\n",
      "Positif\n",
      "Produksi Gas HCML On Track Sepanjang Tahun 2023\n",
      "Positif\n",
      "SKK Migas Sebut Target Produksi Minyak 1 Juta Bph di 2030 Sulit Tercapai\n",
      "Negatif\n",
      "Daging Shabu sampai Bakso Diskon 20% Setiap Hari di Transmart\n",
      "Positif\n",
      "Exit Tol KM 149 Ditutup, Begini Cara Pergi Ke Stasiun Kereta Cepat Tegalluar\n",
      "Netral\n",
      "Rayakan Tahun Baru, 5.670 Wisatawan Serbu Kepulauan Seribu\n",
      "Positif\n",
      "Ini Dia Produk Investasi yang Cocok di Tahun Pemilu\n",
      "Netral\n",
      "Ini Cara Daftar untuk Bisa Beli LPG 3 Kg yang Kini Wajib Pakai KTP\n",
      "Netral\n",
      "Wajib Tahu! Mulai Hari Ini Beli LPG 3 Kg Harus Bawa KTP\n",
      "Kuota habis!. Mencoba lagi dalam 1 detik....\n",
      "Makin Menipis, Cadangan Minyak RI Tersisa 9 Tahun\n",
      "Negatif\n",
      "Tahun Baru Harga BBM Kompak Turun, SPBU Mana yang Lebih Murah?\n",
      "Positif\n",
      "Harga BBM VIVO Ikutan Turun, Jadi Segini Sekarang\n",
      "Positif\n",
      "Fungsi Laporan Perubahan Modal dan Contohnya\n",
      "Netral\n",
      "Ikut Pertamina & Shell, Harga BBM SPBU BP Turun Semua\n",
      "Positif\n",
      "Tahun Baru Harga BBM Shell Turun, Ini Daftarnya\n",
      "Positif\n",
      "Dapatkan Harga Spesial Ikan Shisamo-Anggur di Transmart Diskon 20% Setiap Hari\n",
      "Positif\n",
      "Mengorek Biang Kemacetan Horor Pulau Dewata\n",
      "Negatif\n",
      "Penyemprotan Pestisida dengan Drone Mulai Diminati, Begini Potretnya\n",
      "Netral\n",
      "Tahun Baru Pertamax cs Turun Lagi, Ini Daftar Harga di Semua SPBU Pertamina\n",
      "Netral\n",
      "Harta 500 Orang Terkaya Tembus Rp 230 Kuadriliun, Elon Musk Paling Tajir Sedunia\n",
      "Positif\n",
      "Momen Penyambutan Penumpang Pesawat Perdana 2024\n",
      "Positif\n",
      "Pabrik Semikonduktor Belanda Dilarang Ekspor ke China, AS Penyebabnya\n",
      "Negatif\n",
      "Pertamina Pasok BBM Ramah Lingkungan untuk Kapal Pesiar di Bali\n",
      "Positif\n",
      "Jurus Bank Daerah Bikin Jakarta Jadi Kota Global\n",
      "Positif\n",
      "Penampakan Kawasan Industri Nikel di Morowali Sulteng\n",
      "Netral\n",
      "Disney Kehilangan Hak Cipta Mickey Mouse, Kok Bisa?\n",
      "Kuota habis!. Mencoba lagi dalam 1 detik....\n",
      "Rizal Ramli Meninggal Dunia, Begini Sepak Terjang Sang 'Rajawali Ngepret'\n",
      "Netral\n",
      "Kurangi Imigran, Inggris Larang Pelajar Asing Bawa Keluarga\n",
      "Negatif\n",
      "Rizal Ramli, Sang 'Rajawali Ngepret' Meninggal Dunia\n",
      "Negatif\n",
      "Sri Mulyani Gelontorkan Bansos Rp 443 T Sepanjang 2023, Subsidi Rp 269 T\n",
      "Positif\r"
     ]
    },
    {
     "ename": "ValueError",
     "evalue": "The `response.text` quick accessor only works when the response contains a valid `Part`, but none was returned. Check the `candidate.safety_ratings` to see if the response was blocked.",
     "output_type": "error",
     "traceback": [
      "\u001b[0;31m---------------------------------------------------------------------------\u001b[0m",
      "\u001b[0;31mValueError\u001b[0m                                Traceback (most recent call last)",
      "Cell \u001b[0;32mIn[122], line 1\u001b[0m\n\u001b[0;32m----> 1\u001b[0m sampel1[\u001b[38;5;124m'\u001b[39m\u001b[38;5;124mlabel\u001b[39m\u001b[38;5;124m'\u001b[39m] \u001b[38;5;241m=\u001b[39m sampel1\u001b[38;5;241m.\u001b[39mjudul\u001b[38;5;241m.\u001b[39mapply(labeling)\n",
      "File \u001b[0;32m~/anaconda3/envs/project_twm/lib/python3.12/site-packages/pandas/core/series.py:4924\u001b[0m, in \u001b[0;36mSeries.apply\u001b[0;34m(self, func, convert_dtype, args, by_row, **kwargs)\u001b[0m\n\u001b[1;32m   4789\u001b[0m \u001b[38;5;28;01mdef\u001b[39;00m \u001b[38;5;21mapply\u001b[39m(\n\u001b[1;32m   4790\u001b[0m     \u001b[38;5;28mself\u001b[39m,\n\u001b[1;32m   4791\u001b[0m     func: AggFuncType,\n\u001b[0;32m   (...)\u001b[0m\n\u001b[1;32m   4796\u001b[0m     \u001b[38;5;241m*\u001b[39m\u001b[38;5;241m*\u001b[39mkwargs,\n\u001b[1;32m   4797\u001b[0m ) \u001b[38;5;241m-\u001b[39m\u001b[38;5;241m>\u001b[39m DataFrame \u001b[38;5;241m|\u001b[39m Series:\n\u001b[1;32m   4798\u001b[0m \u001b[38;5;250m    \u001b[39m\u001b[38;5;124;03m\"\"\"\u001b[39;00m\n\u001b[1;32m   4799\u001b[0m \u001b[38;5;124;03m    Invoke function on values of Series.\u001b[39;00m\n\u001b[1;32m   4800\u001b[0m \n\u001b[0;32m   (...)\u001b[0m\n\u001b[1;32m   4915\u001b[0m \u001b[38;5;124;03m    dtype: float64\u001b[39;00m\n\u001b[1;32m   4916\u001b[0m \u001b[38;5;124;03m    \"\"\"\u001b[39;00m\n\u001b[1;32m   4917\u001b[0m     \u001b[38;5;28;01mreturn\u001b[39;00m SeriesApply(\n\u001b[1;32m   4918\u001b[0m         \u001b[38;5;28mself\u001b[39m,\n\u001b[1;32m   4919\u001b[0m         func,\n\u001b[1;32m   4920\u001b[0m         convert_dtype\u001b[38;5;241m=\u001b[39mconvert_dtype,\n\u001b[1;32m   4921\u001b[0m         by_row\u001b[38;5;241m=\u001b[39mby_row,\n\u001b[1;32m   4922\u001b[0m         args\u001b[38;5;241m=\u001b[39margs,\n\u001b[1;32m   4923\u001b[0m         kwargs\u001b[38;5;241m=\u001b[39mkwargs,\n\u001b[0;32m-> 4924\u001b[0m     )\u001b[38;5;241m.\u001b[39mapply()\n",
      "File \u001b[0;32m~/anaconda3/envs/project_twm/lib/python3.12/site-packages/pandas/core/apply.py:1427\u001b[0m, in \u001b[0;36mSeriesApply.apply\u001b[0;34m(self)\u001b[0m\n\u001b[1;32m   1424\u001b[0m     \u001b[38;5;28;01mreturn\u001b[39;00m \u001b[38;5;28mself\u001b[39m\u001b[38;5;241m.\u001b[39mapply_compat()\n\u001b[1;32m   1426\u001b[0m \u001b[38;5;66;03m# self.func is Callable\u001b[39;00m\n\u001b[0;32m-> 1427\u001b[0m \u001b[38;5;28;01mreturn\u001b[39;00m \u001b[38;5;28mself\u001b[39m\u001b[38;5;241m.\u001b[39mapply_standard()\n",
      "File \u001b[0;32m~/anaconda3/envs/project_twm/lib/python3.12/site-packages/pandas/core/apply.py:1507\u001b[0m, in \u001b[0;36mSeriesApply.apply_standard\u001b[0;34m(self)\u001b[0m\n\u001b[1;32m   1501\u001b[0m \u001b[38;5;66;03m# row-wise access\u001b[39;00m\n\u001b[1;32m   1502\u001b[0m \u001b[38;5;66;03m# apply doesn't have a `na_action` keyword and for backward compat reasons\u001b[39;00m\n\u001b[1;32m   1503\u001b[0m \u001b[38;5;66;03m# we need to give `na_action=\"ignore\"` for categorical data.\u001b[39;00m\n\u001b[1;32m   1504\u001b[0m \u001b[38;5;66;03m# TODO: remove the `na_action=\"ignore\"` when that default has been changed in\u001b[39;00m\n\u001b[1;32m   1505\u001b[0m \u001b[38;5;66;03m#  Categorical (GH51645).\u001b[39;00m\n\u001b[1;32m   1506\u001b[0m action \u001b[38;5;241m=\u001b[39m \u001b[38;5;124m\"\u001b[39m\u001b[38;5;124mignore\u001b[39m\u001b[38;5;124m\"\u001b[39m \u001b[38;5;28;01mif\u001b[39;00m \u001b[38;5;28misinstance\u001b[39m(obj\u001b[38;5;241m.\u001b[39mdtype, CategoricalDtype) \u001b[38;5;28;01melse\u001b[39;00m \u001b[38;5;28;01mNone\u001b[39;00m\n\u001b[0;32m-> 1507\u001b[0m mapped \u001b[38;5;241m=\u001b[39m obj\u001b[38;5;241m.\u001b[39m_map_values(\n\u001b[1;32m   1508\u001b[0m     mapper\u001b[38;5;241m=\u001b[39mcurried, na_action\u001b[38;5;241m=\u001b[39maction, convert\u001b[38;5;241m=\u001b[39m\u001b[38;5;28mself\u001b[39m\u001b[38;5;241m.\u001b[39mconvert_dtype\n\u001b[1;32m   1509\u001b[0m )\n\u001b[1;32m   1511\u001b[0m \u001b[38;5;28;01mif\u001b[39;00m \u001b[38;5;28mlen\u001b[39m(mapped) \u001b[38;5;129;01mand\u001b[39;00m \u001b[38;5;28misinstance\u001b[39m(mapped[\u001b[38;5;241m0\u001b[39m], ABCSeries):\n\u001b[1;32m   1512\u001b[0m     \u001b[38;5;66;03m# GH#43986 Need to do list(mapped) in order to get treated as nested\u001b[39;00m\n\u001b[1;32m   1513\u001b[0m     \u001b[38;5;66;03m#  See also GH#25959 regarding EA support\u001b[39;00m\n\u001b[1;32m   1514\u001b[0m     \u001b[38;5;28;01mreturn\u001b[39;00m obj\u001b[38;5;241m.\u001b[39m_constructor_expanddim(\u001b[38;5;28mlist\u001b[39m(mapped), index\u001b[38;5;241m=\u001b[39mobj\u001b[38;5;241m.\u001b[39mindex)\n",
      "File \u001b[0;32m~/anaconda3/envs/project_twm/lib/python3.12/site-packages/pandas/core/base.py:921\u001b[0m, in \u001b[0;36mIndexOpsMixin._map_values\u001b[0;34m(self, mapper, na_action, convert)\u001b[0m\n\u001b[1;32m    918\u001b[0m \u001b[38;5;28;01mif\u001b[39;00m \u001b[38;5;28misinstance\u001b[39m(arr, ExtensionArray):\n\u001b[1;32m    919\u001b[0m     \u001b[38;5;28;01mreturn\u001b[39;00m arr\u001b[38;5;241m.\u001b[39mmap(mapper, na_action\u001b[38;5;241m=\u001b[39mna_action)\n\u001b[0;32m--> 921\u001b[0m \u001b[38;5;28;01mreturn\u001b[39;00m algorithms\u001b[38;5;241m.\u001b[39mmap_array(arr, mapper, na_action\u001b[38;5;241m=\u001b[39mna_action, convert\u001b[38;5;241m=\u001b[39mconvert)\n",
      "File \u001b[0;32m~/anaconda3/envs/project_twm/lib/python3.12/site-packages/pandas/core/algorithms.py:1743\u001b[0m, in \u001b[0;36mmap_array\u001b[0;34m(arr, mapper, na_action, convert)\u001b[0m\n\u001b[1;32m   1741\u001b[0m values \u001b[38;5;241m=\u001b[39m arr\u001b[38;5;241m.\u001b[39mastype(\u001b[38;5;28mobject\u001b[39m, copy\u001b[38;5;241m=\u001b[39m\u001b[38;5;28;01mFalse\u001b[39;00m)\n\u001b[1;32m   1742\u001b[0m \u001b[38;5;28;01mif\u001b[39;00m na_action \u001b[38;5;129;01mis\u001b[39;00m \u001b[38;5;28;01mNone\u001b[39;00m:\n\u001b[0;32m-> 1743\u001b[0m     \u001b[38;5;28;01mreturn\u001b[39;00m lib\u001b[38;5;241m.\u001b[39mmap_infer(values, mapper, convert\u001b[38;5;241m=\u001b[39mconvert)\n\u001b[1;32m   1744\u001b[0m \u001b[38;5;28;01melse\u001b[39;00m:\n\u001b[1;32m   1745\u001b[0m     \u001b[38;5;28;01mreturn\u001b[39;00m lib\u001b[38;5;241m.\u001b[39mmap_infer_mask(\n\u001b[1;32m   1746\u001b[0m         values, mapper, mask\u001b[38;5;241m=\u001b[39misna(values)\u001b[38;5;241m.\u001b[39mview(np\u001b[38;5;241m.\u001b[39muint8), convert\u001b[38;5;241m=\u001b[39mconvert\n\u001b[1;32m   1747\u001b[0m     )\n",
      "File \u001b[0;32mlib.pyx:2972\u001b[0m, in \u001b[0;36mpandas._libs.lib.map_infer\u001b[0;34m()\u001b[0m\n",
      "Cell \u001b[0;32mIn[117], line 5\u001b[0m, in \u001b[0;36mlabeling\u001b[0;34m(judul)\u001b[0m\n\u001b[1;32m      3\u001b[0m \u001b[38;5;28;01mtry\u001b[39;00m:\n\u001b[1;32m      4\u001b[0m     sentiment \u001b[38;5;241m=\u001b[39m model\u001b[38;5;241m.\u001b[39mgenerate_content(\u001b[38;5;124mf\u001b[39m\u001b[38;5;124m\"\u001b[39m\u001b[38;5;124mTolong beri label sentimen pada judul berita keuangan berikut dengan hanya satu kata saja: positif, negatif, atau netral. \u001b[39m\u001b[38;5;132;01m{\u001b[39;00mjudul\u001b[38;5;132;01m}\u001b[39;00m\u001b[38;5;124m\"\u001b[39m)\n\u001b[0;32m----> 5\u001b[0m     \u001b[38;5;28mprint\u001b[39m(judul \u001b[38;5;241m+\u001b[39m sentiment\u001b[38;5;241m.\u001b[39mtext, end\u001b[38;5;241m=\u001b[39m\u001b[38;5;124m'\u001b[39m\u001b[38;5;130;01m\\r\u001b[39;00m\u001b[38;5;124m'\u001b[39m)\n\u001b[1;32m      6\u001b[0m     \u001b[38;5;28;01mreturn\u001b[39;00m sentiment\u001b[38;5;241m.\u001b[39mtext\n\u001b[1;32m      7\u001b[0m \u001b[38;5;28;01mexcept\u001b[39;00m ResourceExhausted \u001b[38;5;28;01mas\u001b[39;00m e:\n",
      "File \u001b[0;32m~/anaconda3/envs/project_twm/lib/python3.12/site-packages/google/generativeai/types/generation_types.py:401\u001b[0m, in \u001b[0;36mBaseGenerateContentResponse.text\u001b[0;34m(self)\u001b[0m\n\u001b[1;32m    399\u001b[0m parts \u001b[38;5;241m=\u001b[39m \u001b[38;5;28mself\u001b[39m\u001b[38;5;241m.\u001b[39mparts\n\u001b[1;32m    400\u001b[0m \u001b[38;5;28;01mif\u001b[39;00m \u001b[38;5;129;01mnot\u001b[39;00m parts:\n\u001b[0;32m--> 401\u001b[0m     \u001b[38;5;28;01mraise\u001b[39;00m \u001b[38;5;167;01mValueError\u001b[39;00m(\n\u001b[1;32m    402\u001b[0m         \u001b[38;5;124m\"\u001b[39m\u001b[38;5;124mThe `response.text` quick accessor only works when the response contains a valid \u001b[39m\u001b[38;5;124m\"\u001b[39m\n\u001b[1;32m    403\u001b[0m         \u001b[38;5;124m\"\u001b[39m\u001b[38;5;124m`Part`, but none was returned. Check the `candidate.safety_ratings` to see if the \u001b[39m\u001b[38;5;124m\"\u001b[39m\n\u001b[1;32m    404\u001b[0m         \u001b[38;5;124m\"\u001b[39m\u001b[38;5;124mresponse was blocked.\u001b[39m\u001b[38;5;124m\"\u001b[39m\n\u001b[1;32m    405\u001b[0m     )\n\u001b[1;32m    407\u001b[0m \u001b[38;5;28;01mif\u001b[39;00m \u001b[38;5;28mlen\u001b[39m(parts) \u001b[38;5;241m!=\u001b[39m \u001b[38;5;241m1\u001b[39m \u001b[38;5;129;01mor\u001b[39;00m \u001b[38;5;124m\"\u001b[39m\u001b[38;5;124mtext\u001b[39m\u001b[38;5;124m\"\u001b[39m \u001b[38;5;129;01mnot\u001b[39;00m \u001b[38;5;129;01min\u001b[39;00m parts[\u001b[38;5;241m0\u001b[39m]:\n\u001b[1;32m    408\u001b[0m     \u001b[38;5;28;01mraise\u001b[39;00m \u001b[38;5;167;01mValueError\u001b[39;00m(\n\u001b[1;32m    409\u001b[0m         \u001b[38;5;124m\"\u001b[39m\u001b[38;5;124mThe `response.text` quick accessor only works for \u001b[39m\u001b[38;5;124m\"\u001b[39m\n\u001b[1;32m    410\u001b[0m         \u001b[38;5;124m\"\u001b[39m\u001b[38;5;124msimple (single-`Part`) text responses. This response is not simple text. \u001b[39m\u001b[38;5;124m\"\u001b[39m\n\u001b[0;32m   (...)\u001b[0m\n\u001b[1;32m    413\u001b[0m         \u001b[38;5;124m\"\u001b[39m\u001b[38;5;124minstead.\u001b[39m\u001b[38;5;124m\"\u001b[39m\n\u001b[1;32m    414\u001b[0m     )\n",
      "\u001b[0;31mValueError\u001b[0m: The `response.text` quick accessor only works when the response contains a valid `Part`, but none was returned. Check the `candidate.safety_ratings` to see if the response was blocked."
     ]
    }
   ],
   "source": [
    "sampel1['label'] = sampel1.judul.apply(labeling)"
   ]
  },
  {
   "cell_type": "code",
   "execution_count": null,
   "id": "7bb21f75-9441-4a8b-b078-cca9fcbb7eea",
   "metadata": {},
   "outputs": [],
   "source": [
    "sampel1.to_csv('data_1_2024_sampel_1.csv', index=False, encoding='utf-8')"
   ]
  },
  {
   "cell_type": "code",
   "execution_count": null,
   "id": "8d5abe65-be7a-4907-bba4-3cacbce2f64a",
   "metadata": {},
   "outputs": [],
   "source": []
  }
 ],
 "metadata": {
  "kernelspec": {
   "display_name": "Python 3 (ipykernel)",
   "language": "python",
   "name": "python3"
  },
  "language_info": {
   "codemirror_mode": {
    "name": "ipython",
    "version": 3
   },
   "file_extension": ".py",
   "mimetype": "text/x-python",
   "name": "python",
   "nbconvert_exporter": "python",
   "pygments_lexer": "ipython3",
   "version": "3.12.3"
  }
 },
 "nbformat": 4,
 "nbformat_minor": 5
}
