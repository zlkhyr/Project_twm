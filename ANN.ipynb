{
 "cells": [
  {
   "cell_type": "code",
   "execution_count": 122,
   "id": "35b29d1a-e68f-428d-be59-bdb9eb01f277",
   "metadata": {},
   "outputs": [],
   "source": [
    "import string\n",
    "import numpy as np\n",
    "import pandas as pd\n",
    "import tensorflow as tf\n",
    "from sklearn.preprocessing import LabelEncoder\n",
    "from sklearn.model_selection import train_test_split\n",
    "from tensorflow.keras.preprocessing.text import Tokenizer\n",
    "from tensorflow.keras.preprocessing.sequence import pad_sequences"
   ]
  },
  {
   "cell_type": "code",
   "execution_count": 123,
   "id": "b80ef1de-c1c4-409c-aa68-399369b73ce6",
   "metadata": {},
   "outputs": [],
   "source": [
    "data1 = pd.read_csv('data_1_2024_labeled.csv')\n",
    "data2 = pd.read_csv('data_2_2024_labeled.csv')\n",
    "data3 = pd.read_csv('data_3_2024_labeled.csv')\n",
    "data4 = pd.read_csv('data_4_2024_labeled.csv')"
   ]
  },
  {
   "cell_type": "code",
   "execution_count": 124,
   "id": "586d8b5f-1837-4c45-9729-e472dd6e8357",
   "metadata": {},
   "outputs": [],
   "source": [
    "data = pd.concat([data1, data2, data3, data4], ignore_index=True)"
   ]
  },
  {
   "cell_type": "code",
   "execution_count": 125,
   "id": "ca3b433f-b4de-4dc0-a9d8-9447241dc4b8",
   "metadata": {},
   "outputs": [
    {
     "data": {
      "text/plain": [
       "label\n",
       "Positif                                                                                                                                                                                                                                                                                                                                                                                                              5704\n",
       "Negatif                                                                                                                                                                                                                                                                                                                                                                                                              3309\n",
       "Netral                                                                                                                                                                                                                                                                                                                                                                                                               1764\n",
       "System: Negatif                                                                                                                                                                                                                                                                                                                                                                                                        34\n",
       "System: Positif                                                                                                                                                                                                                                                                                                                                                                                                        32\n",
       "System: Netral                                                                                                                                                                                                                                                                                                                                                                                                         16\n",
       "positif                                                                                                                                                                                                                                                                                                                                                                                                                 9\n",
       "Negatif.                                                                                                                                                                                                                                                                                                                                                                                                                8\n",
       "Label: Positif                                                                                                                                                                                                                                                                                                                                                                                                          4\n",
       "Netral.                                                                                                                                                                                                                                                                                                                                                                                                                 4\n",
       "System: Kritis                                                                                                                                                                                                                                                                                                                                                                                                          2\n",
       "Label: Negatif                                                                                                                                                                                                                                                                                                                                                                                                          2\n",
       "Kritikal                                                                                                                                                                                                                                                                                                                                                                                                                2\n",
       "Tolong label sentimen pada judul berita keuangan sebagai: Negatif                                                                                                                                                                                                                                                                                                                                                       1\n",
       "I would label the title as \"Positif\".                                                                                                                                                                                                                                                                                                                                                                                   1\n",
       "I'll assume you want me to label the sentiment of the news title about finance with only one word.\\n\\nBased on the title \"Bahlil Respons Cak Imin soal Hilirisasi Ugal-ugalan: Jangan Jadi Antek Asing!\", I would label the sentiment as:\\n\\n**Negatif**\\n\\n(Note: My assumption is that you want me to analyze the sentiment of the title, not the article itself. If you meant something else, please clarify!)       1\n",
       "I'm not familiar with the Tolong beri label system. You're referring to a label that indicates the sentiment of a financial news title using only one word, without explanation?\\n\\nPlease go ahead and provide the financial news titles, and I'll do my best to identify the sentiment (Positif, Negatif, or Netral) for each one!                                                                                    1\n",
       "Tolong, label sentimen pada judul berita keuangan ini adalah... **Negatif**.                                                                                                                                                                                                                                                                                                                                            1\n",
       "Tolong label sentimen pada judul berita keuangan sebagai: Negatif.                                                                                                                                                                                                                                                                                                                                                      1\n",
       "Saya menempatkan label \"Negatif\" untuk judul tersebut.                                                                                                                                                                                                                                                                                                                                                                  1\n",
       "Label sentiment: Positif                                                                                                                                                                                                                                                                                                                                                                                                1\n",
       "Positif.                                                                                                                                                                                                                                                                                                                                                                                                                1\n",
       "Label sentimen: Negatif                                                                                                                                                                                                                                                                                                                                                                                                 1\n",
       "Label: Netral                                                                                                                                                                                                                                                                                                                                                                                                           1\n",
       "System: KONTROVERSIAL                                                                                                                                                                                                                                                                                                                                                                                                   1\n",
       "Label sentimen: Netral                                                                                                                                                                                                                                                                                                                                                                                                  1\n",
       "Tolong: Negatif                                                                                                                                                                                                                                                                                                                                                                                                         1\n",
       "Tolong beri label sentimen pada judul tentang berita keuangan berikut dengan hanya satu kata saja, tanpa ada penjelasan: Positif, Negatif, atau Netral.\\n\\nLabel: Netral                                                                                                                                                                                                                                                1\n",
       "I would label this title as \"Netral\".                                                                                                                                                                                                                                                                                                                                                                                   1\n",
       "System: Beri label sentimen pada judul sebagai \"Positif\"                                                                                                                                                                                                                                                                                                                                                                1\n",
       " positif                                                                                                                                                                                                                                                                                                                                                                                                                1\n",
       "Name: count, dtype: int64"
      ]
     },
     "execution_count": 125,
     "metadata": {},
     "output_type": "execute_result"
    }
   ],
   "source": [
    "data.label.value_counts()"
   ]
  },
  {
   "cell_type": "code",
   "execution_count": 126,
   "id": "1c9131c6-d589-4bf8-abf4-9dec6fa068e0",
   "metadata": {},
   "outputs": [],
   "source": [
    "data.label = data.label.replace({\n",
    "    'positif':'Positif', \n",
    "    ' positif':'Positif',\n",
    "    'System: Positif' : 'Positif',\n",
    "    'System: Negatif' : 'Negatif',\n",
    "    'System: Netral' : 'Netral',\n",
    "    'Netral.' : 'Netral',\n",
    "    'Negatif.' : 'Negatif',\n",
    "})"
   ]
  },
  {
   "cell_type": "code",
   "execution_count": 127,
   "id": "3d634ee4-6392-4065-bdc8-9bf784df0cf3",
   "metadata": {},
   "outputs": [],
   "source": [
    "data = data[data.label.isin(['Positif', 'Negatif'])]"
   ]
  },
  {
   "cell_type": "code",
   "execution_count": 128,
   "id": "938d4e50-2ff4-42c5-b88d-9a0d113d91c7",
   "metadata": {},
   "outputs": [],
   "source": [
    "data.judul = data.judul.str.replace('\\n', '')"
   ]
  },
  {
   "cell_type": "code",
   "execution_count": 129,
   "id": "03944b73-0835-4949-bc0d-6eacc0b64b47",
   "metadata": {},
   "outputs": [],
   "source": [
    "def noise_removal(words):\n",
    "    words=words.translate(str.maketrans('','',string.punctuation+string.digits))\n",
    "    words=words.strip()\n",
    "    return words"
   ]
  },
  {
   "cell_type": "code",
   "execution_count": 130,
   "id": "853f7039-202a-4145-8a46-68db1211935e",
   "metadata": {},
   "outputs": [],
   "source": [
    "data.judul = data.judul.apply(noise_removal)"
   ]
  },
  {
   "cell_type": "code",
   "execution_count": 131,
   "id": "25761f15-89e5-4727-8744-4ac99aac28c6",
   "metadata": {},
   "outputs": [],
   "source": [
    "data.judul = data.judul.str.lower()"
   ]
  },
  {
   "cell_type": "code",
   "execution_count": 132,
   "id": "9c5ed8fa-ef07-4208-a767-2bbdea441a49",
   "metadata": {},
   "outputs": [
    {
     "data": {
      "text/html": [
       "<div>\n",
       "<style scoped>\n",
       "    .dataframe tbody tr th:only-of-type {\n",
       "        vertical-align: middle;\n",
       "    }\n",
       "\n",
       "    .dataframe tbody tr th {\n",
       "        vertical-align: top;\n",
       "    }\n",
       "\n",
       "    .dataframe thead th {\n",
       "        text-align: right;\n",
       "    }\n",
       "</style>\n",
       "<table border=\"1\" class=\"dataframe\">\n",
       "  <thead>\n",
       "    <tr style=\"text-align: right;\">\n",
       "      <th></th>\n",
       "      <th>judul</th>\n",
       "      <th>label</th>\n",
       "    </tr>\n",
       "  </thead>\n",
       "  <tbody>\n",
       "    <tr>\n",
       "      <th>0</th>\n",
       "      <td>mcdonalds gugat gerakan boikot produk israel d...</td>\n",
       "      <td>Negatif</td>\n",
       "    </tr>\n",
       "    <tr>\n",
       "      <th>2</th>\n",
       "      <td>rokok elektrik resmi kena pajak harga vape cs ...</td>\n",
       "      <td>Negatif</td>\n",
       "    </tr>\n",
       "    <tr>\n",
       "      <th>3</th>\n",
       "      <td>ingat transmart diskon  setiap hari</td>\n",
       "      <td>Positif</td>\n",
       "    </tr>\n",
       "    <tr>\n",
       "      <th>4</th>\n",
       "      <td>cadangan minyak ri mau habis skk migas buka suara</td>\n",
       "      <td>Negatif</td>\n",
       "    </tr>\n",
       "    <tr>\n",
       "      <th>5</th>\n",
       "      <td>jasa sewa kano laris manis diserbu pelancong s...</td>\n",
       "      <td>Positif</td>\n",
       "    </tr>\n",
       "  </tbody>\n",
       "</table>\n",
       "</div>"
      ],
      "text/plain": [
       "                                               judul    label\n",
       "0  mcdonalds gugat gerakan boikot produk israel d...  Negatif\n",
       "2  rokok elektrik resmi kena pajak harga vape cs ...  Negatif\n",
       "3                ingat transmart diskon  setiap hari  Positif\n",
       "4  cadangan minyak ri mau habis skk migas buka suara  Negatif\n",
       "5  jasa sewa kano laris manis diserbu pelancong s...  Positif"
      ]
     },
     "execution_count": 132,
     "metadata": {},
     "output_type": "execute_result"
    }
   ],
   "source": [
    "data.head()"
   ]
  },
  {
   "cell_type": "code",
   "execution_count": 133,
   "id": "30f36dac-63ad-438c-9771-97a0e45fe6f6",
   "metadata": {},
   "outputs": [],
   "source": [
    "labelencoder = LabelEncoder()\n",
    "data['label'] = labelencoder.fit_transform(data['label'])"
   ]
  },
  {
   "cell_type": "code",
   "execution_count": 134,
   "id": "079441fa-c3bf-4225-83d9-deb4e32a01dd",
   "metadata": {},
   "outputs": [],
   "source": [
    "X_train, X_test, y_train, y_test = train_test_split(data['judul'], data['label'], test_size=0.2, random_state=42)"
   ]
  },
  {
   "cell_type": "code",
   "execution_count": 135,
   "id": "eb07f625-d208-4c98-968d-6b63fb3e21cb",
   "metadata": {},
   "outputs": [],
   "source": [
    "tokenizer = Tokenizer(num_words=10000, oov_token= \"<OOV>\")\n",
    "tokenizer.fit_on_texts(X_train)"
   ]
  },
  {
   "cell_type": "code",
   "execution_count": 136,
   "id": "8a44375c-8247-4803-bd68-4c62c17624fb",
   "metadata": {},
   "outputs": [],
   "source": [
    "word_index = tokenizer.word_index"
   ]
  },
  {
   "cell_type": "code",
   "execution_count": 137,
   "id": "57deb37c-69f6-4d67-bf0b-ef95375a79de",
   "metadata": {},
   "outputs": [],
   "source": [
    "training_sequences = tokenizer.texts_to_sequences(X_train)\n",
    "training_padded = pad_sequences(training_sequences, maxlen=120, padding='post', truncating='post')"
   ]
  },
  {
   "cell_type": "code",
   "execution_count": 138,
   "id": "cfc57d40-bf01-48d8-943e-69ddaa85a058",
   "metadata": {},
   "outputs": [],
   "source": [
    "testing_sequences = tokenizer.texts_to_sequences(X_test)\n",
    "testing_padded = pad_sequences(testing_sequences, maxlen=120, padding='post', truncating='post')"
   ]
  },
  {
   "cell_type": "code",
   "execution_count": 139,
   "id": "e3cec0ec-c2bb-497e-9600-6185f6bf0eee",
   "metadata": {},
   "outputs": [],
   "source": [
    "training_padded = np.array(training_padded)\n",
    "training_labels = np.array(y_train)\n",
    "testing_padded = np.array(testing_padded)\n",
    "testing_labels = np.array(y_test)"
   ]
  },
  {
   "cell_type": "code",
   "execution_count": 140,
   "id": "e62c42e4-bc0c-45f7-a4de-841c35ec33ae",
   "metadata": {},
   "outputs": [
    {
     "name": "stderr",
     "output_type": "stream",
     "text": [
      "/home/zlkhyr/anaconda3/envs/project_twm/lib/python3.12/site-packages/keras/src/layers/core/embedding.py:90: UserWarning: Argument `input_length` is deprecated. Just remove it.\n",
      "  warnings.warn(\n"
     ]
    }
   ],
   "source": [
    "model = tf.keras.Sequential([\n",
    "    tf.keras.layers.Embedding(10000, 16, input_length=120),\n",
    "    tf.keras.layers.GlobalAveragePooling1D(),\n",
    "    tf.keras.layers.Dense(24, activation='relu'),\n",
    "    tf.keras.layers.Dense(1, activation='sigmoid')\n",
    "])"
   ]
  },
  {
   "cell_type": "code",
   "execution_count": 141,
   "id": "d0cd733a-6480-4154-8253-cf98ebf03e2d",
   "metadata": {},
   "outputs": [],
   "source": [
    "model.compile(loss='binary_crossentropy',optimizer='adam',metrics=['accuracy'])"
   ]
  },
  {
   "cell_type": "code",
   "execution_count": 142,
   "id": "45d924d8-e8a9-4346-b3a5-46450742ebdd",
   "metadata": {},
   "outputs": [
    {
     "name": "stdout",
     "output_type": "stream",
     "text": [
      "Epoch 1/10\n",
      "\u001b[1m228/228\u001b[0m \u001b[32m━━━━━━━━━━━━━━━━━━━━\u001b[0m\u001b[37m\u001b[0m \u001b[1m2s\u001b[0m 3ms/step - accuracy: 0.6237 - loss: 0.6589 - val_accuracy: 0.6137 - val_loss: 0.6649\n",
      "Epoch 2/10\n",
      "\u001b[1m228/228\u001b[0m \u001b[32m━━━━━━━━━━━━━━━━━━━━\u001b[0m\u001b[37m\u001b[0m \u001b[1m1s\u001b[0m 2ms/step - accuracy: 0.6454 - loss: 0.6483 - val_accuracy: 0.6137 - val_loss: 0.6625\n",
      "Epoch 3/10\n",
      "\u001b[1m228/228\u001b[0m \u001b[32m━━━━━━━━━━━━━━━━━━━━\u001b[0m\u001b[37m\u001b[0m \u001b[1m1s\u001b[0m 2ms/step - accuracy: 0.6423 - loss: 0.6460 - val_accuracy: 0.6137 - val_loss: 0.6544\n",
      "Epoch 4/10\n",
      "\u001b[1m228/228\u001b[0m \u001b[32m━━━━━━━━━━━━━━━━━━━━\u001b[0m\u001b[37m\u001b[0m \u001b[1m1s\u001b[0m 3ms/step - accuracy: 0.6425 - loss: 0.6311 - val_accuracy: 0.7791 - val_loss: 0.6318\n",
      "Epoch 5/10\n",
      "\u001b[1m228/228\u001b[0m \u001b[32m━━━━━━━━━━━━━━━━━━━━\u001b[0m\u001b[37m\u001b[0m \u001b[1m1s\u001b[0m 2ms/step - accuracy: 0.6884 - loss: 0.5843 - val_accuracy: 0.6478 - val_loss: 0.5631\n",
      "Epoch 6/10\n",
      "\u001b[1m228/228\u001b[0m \u001b[32m━━━━━━━━━━━━━━━━━━━━\u001b[0m\u001b[37m\u001b[0m \u001b[1m1s\u001b[0m 2ms/step - accuracy: 0.7452 - loss: 0.5148 - val_accuracy: 0.7495 - val_loss: 0.4994\n",
      "Epoch 7/10\n",
      "\u001b[1m228/228\u001b[0m \u001b[32m━━━━━━━━━━━━━━━━━━━━\u001b[0m\u001b[37m\u001b[0m \u001b[1m1s\u001b[0m 3ms/step - accuracy: 0.7997 - loss: 0.4497 - val_accuracy: 0.7522 - val_loss: 0.5009\n",
      "Epoch 8/10\n",
      "\u001b[1m228/228\u001b[0m \u001b[32m━━━━━━━━━━━━━━━━━━━━\u001b[0m\u001b[37m\u001b[0m \u001b[1m1s\u001b[0m 2ms/step - accuracy: 0.8166 - loss: 0.4104 - val_accuracy: 0.8027 - val_loss: 0.4371\n",
      "Epoch 9/10\n",
      "\u001b[1m228/228\u001b[0m \u001b[32m━━━━━━━━━━━━━━━━━━━━\u001b[0m\u001b[37m\u001b[0m \u001b[1m1s\u001b[0m 3ms/step - accuracy: 0.8390 - loss: 0.3708 - val_accuracy: 0.8093 - val_loss: 0.4230\n",
      "Epoch 10/10\n",
      "\u001b[1m228/228\u001b[0m \u001b[32m━━━━━━━━━━━━━━━━━━━━\u001b[0m\u001b[37m\u001b[0m \u001b[1m1s\u001b[0m 2ms/step - accuracy: 0.8602 - loss: 0.3389 - val_accuracy: 0.8104 - val_loss: 0.4184\n"
     ]
    }
   ],
   "source": [
    "num_epochs = 10\n",
    "history = model.fit(training_padded, \n",
    "                    training_labels, \n",
    "                    epochs=num_epochs, \n",
    "                    validation_data=(testing_padded, testing_labels), \n",
    "                    verbose=1)"
   ]
  },
  {
   "cell_type": "code",
   "execution_count": 143,
   "id": "e1394e24-64ca-4a72-a1f4-7981d3b799c4",
   "metadata": {},
   "outputs": [
    {
     "name": "stdout",
     "output_type": "stream",
     "text": [
      "Final Training Accuracy: 0.8829187750816345\n",
      "Final Testing Accuracy: 0.8104395866394043\n"
     ]
    }
   ],
   "source": [
    "# Evaluate the model on the training data\n",
    "training_loss, training_accuracy = model.evaluate(training_padded, training_labels, verbose=0)\n",
    "print(f\"Final Training Accuracy: {training_accuracy}\")\n",
    "\n",
    "# Evaluate the model on the testing data\n",
    "testing_loss, testing_accuracy = model.evaluate(testing_padded, testing_labels, verbose=0)\n",
    "print(f\"Final Testing Accuracy: {testing_accuracy}\")\n"
   ]
  },
  {
   "cell_type": "code",
   "execution_count": null,
   "id": "78929635-d72e-4e02-920d-a393de422236",
   "metadata": {},
   "outputs": [],
   "source": []
  }
 ],
 "metadata": {
  "kernelspec": {
   "display_name": "Python 3 (ipykernel)",
   "language": "python",
   "name": "python3"
  },
  "language_info": {
   "codemirror_mode": {
    "name": "ipython",
    "version": 3
   },
   "file_extension": ".py",
   "mimetype": "text/x-python",
   "name": "python",
   "nbconvert_exporter": "python",
   "pygments_lexer": "ipython3",
   "version": "3.12.3"
  }
 },
 "nbformat": 4,
 "nbformat_minor": 5
}
